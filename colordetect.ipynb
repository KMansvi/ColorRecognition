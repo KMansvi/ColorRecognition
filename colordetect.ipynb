{
 "cells": [
  {
   "cell_type": "code",
   "execution_count": 14,
   "id": "5af4c1ba-9e1b-470a-84b2-631de3e9a0b5",
   "metadata": {},
   "outputs": [],
   "source": [
    "import numpy as np\n",
    "import pandas as pd\n",
    "import cv2"
   ]
  },
  {
   "cell_type": "code",
   "execution_count": 15,
   "id": "4d5c73c5",
   "metadata": {},
   "outputs": [],
   "source": [
    "img = cv2.imread(r\"colour.jpeg\")\n",
    "index = [\"color\", \"color_name\", \"hex\", \"R\", \"G\", \"B\"]\n",
    "colors_df = pd.read_csv(r\"colors.csv\", names=index, header=None)\n",
    "clicked = False\n",
    "r = g = b = xpos = ypos = 0\n",
    "def recognize_color(R, G, B):\n",
    "    minimum = 1000\n",
    "    cname = \"\"\n",
    "    for i in range(len(colors_df)):\n",
    "        d = abs(R - int(colors_df.loc[i, \"R\"])) + abs(G - int(colors_df.loc[i, \"G\"])) + abs(B - int(colors_df.loc[i, \"B\"]))\n",
    "        if d <= minimum:\n",
    "            minimum = d\n",
    "            cname = colors_df.loc[i, \"color_name\"]\n",
    "    return cname\n",
    "def mouse_click(event, x, y, flags, param):\n",
    "    global b, g, r, xpos, ypos, clicked\n",
    "    if event == cv2.EVENT_LBUTTONDBLCLK:\n",
    "        clicked = True\n",
    "        xpos = x\n",
    "        ypos = y\n",
    "        b, g, r = img[y, x]\n",
    "        b = int(b)\n",
    "        g = int(g)\n",
    "        r = int(r)\n",
    "cv2.namedWindow('Color Recognition App')\n",
    "cv2.setMouseCallback('Color Recognition App', mouse_click)\n",
    "\n",
    "while True:\n",
    "    cv2.imshow(\"Color Recognition App\", img)\n",
    "    \n",
    "    if clicked:\n",
    "        # Draw a filled rectangle at the top\n",
    "        cv2.rectangle(img, (20, 20), (750, 60), (b, g, r), -1)\n",
    "\n",
    "        # Text to display color name and RGB values\n",
    "        text = recognize_color(r, g, b) + ' R=' + str(r) + ' G=' + str(g) + ' B=' + str(b)\n",
    "\n",
    "        # For dark or light backgrounds, adjust text color\n",
    "        if r + g + b >= 600:\n",
    "            cv2.putText(img, text, (50, 50), 2, 0.8, (0, 0, 0), 2, cv2.LINE_AA)\n",
    "        else:\n",
    "            cv2.putText(img, text, (50, 50), 2, 0.8, (255, 255, 255), 2, cv2.LINE_AA)\n",
    "\n",
    "        clicked = False\n",
    "\n",
    "    # Break the loop when user hits 'ESC' key\n",
    "    if cv2.waitKey(20) & 0xFF == 27:\n",
    "        break\n",
    "    elif cv2.getWindowProperty(\"Color Recognition App\", cv2.WND_PROP_VISIBLE) < 1:\n",
    "        break\n",
    "\n",
    "cv2.destroyAllWindows()"
   ]
  },
  {
   "cell_type": "code",
   "execution_count": null,
   "id": "dc0631af",
   "metadata": {},
   "outputs": [],
   "source": []
  }
 ],
 "metadata": {
  "kernelspec": {
   "display_name": "Python 3",
   "language": "python",
   "name": "python3"
  },
  "language_info": {
   "codemirror_mode": {
    "name": "ipython",
    "version": 3
   },
   "file_extension": ".py",
   "mimetype": "text/x-python",
   "name": "python",
   "nbconvert_exporter": "python",
   "pygments_lexer": "ipython3",
   "version": "3.13.2"
  }
 },
 "nbformat": 4,
 "nbformat_minor": 5
}
